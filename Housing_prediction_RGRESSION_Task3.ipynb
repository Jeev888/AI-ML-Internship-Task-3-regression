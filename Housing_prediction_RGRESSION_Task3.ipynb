{
  "nbformat": 4,
  "nbformat_minor": 0,
  "metadata": {
    "colab": {
      "provenance": []
    },
    "kernelspec": {
      "name": "python3",
      "display_name": "Python 3"
    },
    "language_info": {
      "name": "python"
    }
  },
  "cells": [
    {
      "cell_type": "code",
      "execution_count": 25,
      "metadata": {
        "colab": {
          "base_uri": "https://localhost:8080/"
        },
        "id": "gcIqzoOTgthn",
        "outputId": "218356b4-5330-4c09-c298-dd010adc6820"
      },
      "outputs": [
        {
          "output_type": "stream",
          "name": "stdout",
          "text": [
            "Path to dataset files: /kaggle/input/housing-price-prediction\n"
          ]
        }
      ],
      "source": [
        "import kagglehub\n",
        "\n",
        "# Download latest version\n",
        "path = kagglehub.dataset_download(\"harishkumardatalab/housing-price-prediction\")\n",
        "\n",
        "print(\"Path to dataset files:\", path)"
      ]
    },
    {
      "cell_type": "code",
      "source": [
        "!mv -f \"{path}/Housing.csv\" /content"
      ],
      "metadata": {
        "colab": {
          "base_uri": "https://localhost:8080/"
        },
        "id": "drNtxPq-g0f7",
        "outputId": "72add41b-7234-49ee-d311-517242cc06bd"
      },
      "execution_count": 26,
      "outputs": [
        {
          "output_type": "stream",
          "name": "stdout",
          "text": [
            "mv: cannot remove '/kaggle/input/housing-price-prediction/Housing.csv': Read-only file system\n"
          ]
        }
      ]
    },
    {
      "cell_type": "code",
      "source": [
        "import pandas as pd\n",
        "import numpy as np\n",
        "import matplotlib.pyplot as plt\n",
        "import seaborn as sns\n",
        "from sklearn.model_selection import train_test_split\n",
        "from sklearn.linear_model import LinearRegression\n",
        "from sklearn.metrics import mean_absolute_error, mean_squared_error, r2_score\n",
        "\n",
        "# Load the dataset  'Housing.csv'\n",
        "\n",
        "df = pd.read_csv('Housing.csv')\n",
        "print(\"Dataset loaded successfully!\")\n",
        "\n",
        "print(\"\\nInitial Data Glance:\")\n",
        "print(df.head())\n",
        "print(\"\\n\" + \"=\"*50 + \"\\n\")\n",
        "\n",
        "print(\"DataFrame Info:\")\n",
        "df.info()\n",
        "print(\"\\n\" + \"=\"*50 + \"\\n\")"
      ],
      "metadata": {
        "colab": {
          "base_uri": "https://localhost:8080/"
        },
        "id": "TNqfn47thClx",
        "outputId": "8b929918-3003-4c7f-86fc-2642c4aecac7"
      },
      "execution_count": 27,
      "outputs": [
        {
          "output_type": "stream",
          "name": "stdout",
          "text": [
            "Dataset loaded successfully!\n",
            "\n",
            "Initial Data Glance:\n",
            "      price  area  bedrooms  bathrooms  stories mainroad guestroom basement  \\\n",
            "0  13300000  7420         4          2        3      yes        no       no   \n",
            "1  12250000  8960         4          4        4      yes        no       no   \n",
            "2  12250000  9960         3          2        2      yes        no      yes   \n",
            "3  12215000  7500         4          2        2      yes        no      yes   \n",
            "4  11410000  7420         4          1        2      yes       yes      yes   \n",
            "\n",
            "  hotwaterheating airconditioning  parking prefarea furnishingstatus  \n",
            "0              no             yes        2      yes        furnished  \n",
            "1              no             yes        3       no        furnished  \n",
            "2              no              no        2      yes   semi-furnished  \n",
            "3              no             yes        3      yes        furnished  \n",
            "4              no             yes        2       no        furnished  \n",
            "\n",
            "==================================================\n",
            "\n",
            "DataFrame Info:\n",
            "<class 'pandas.core.frame.DataFrame'>\n",
            "RangeIndex: 545 entries, 0 to 544\n",
            "Data columns (total 13 columns):\n",
            " #   Column            Non-Null Count  Dtype \n",
            "---  ------            --------------  ----- \n",
            " 0   price             545 non-null    int64 \n",
            " 1   area              545 non-null    int64 \n",
            " 2   bedrooms          545 non-null    int64 \n",
            " 3   bathrooms         545 non-null    int64 \n",
            " 4   stories           545 non-null    int64 \n",
            " 5   mainroad          545 non-null    object\n",
            " 6   guestroom         545 non-null    object\n",
            " 7   basement          545 non-null    object\n",
            " 8   hotwaterheating   545 non-null    object\n",
            " 9   airconditioning   545 non-null    object\n",
            " 10  parking           545 non-null    int64 \n",
            " 11  prefarea          545 non-null    object\n",
            " 12  furnishingstatus  545 non-null    object\n",
            "dtypes: int64(6), object(7)\n",
            "memory usage: 55.5+ KB\n",
            "\n",
            "==================================================\n",
            "\n"
          ]
        }
      ]
    },
    {
      "cell_type": "code",
      "source": [
        "# copy of the DataFrame to perform preprocessing\n",
        "df_processed = df.copy()\n",
        "\n",
        "#categorical columns from the previous  output\n",
        "binary_cols = ['mainroad', 'guestroom', 'basement', 'hotwaterheating', 'airconditioning', 'prefarea']\n",
        "multi_category_col = 'furnishingstatus'\n",
        "\n",
        "# manual mapping (Label Encoding) for binary 'yes'/'no' columns\n",
        "for col in binary_cols:\n",
        "    df_processed[col] = df_processed[col].map({'yes': 1, 'no': 0})\n",
        "\n",
        "# One-Hot Encoding for the 'furnishingstatus' column\n",
        "df_processed = pd.get_dummies(df_processed, columns=[multi_category_col], drop_first=True, dtype=int)\n",
        "\n",
        "print(\"DataFrame after Preprocessing:\")\n",
        "print(df_processed.head())\n",
        "print(\"\\n\" + \"=\"*50 + \"\\n\")\n",
        "\n",
        "print(\"Final DataFrame Info:\")\n",
        "df_processed.info()"
      ],
      "metadata": {
        "colab": {
          "base_uri": "https://localhost:8080/"
        },
        "id": "8h2Fc-Eul87N",
        "outputId": "f7c0411c-9229-4b9a-a3d6-c9410a8da95a"
      },
      "execution_count": 28,
      "outputs": [
        {
          "output_type": "stream",
          "name": "stdout",
          "text": [
            "DataFrame after Preprocessing:\n",
            "      price  area  bedrooms  bathrooms  stories  mainroad  guestroom  \\\n",
            "0  13300000  7420         4          2        3         1          0   \n",
            "1  12250000  8960         4          4        4         1          0   \n",
            "2  12250000  9960         3          2        2         1          0   \n",
            "3  12215000  7500         4          2        2         1          0   \n",
            "4  11410000  7420         4          1        2         1          1   \n",
            "\n",
            "   basement  hotwaterheating  airconditioning  parking  prefarea  \\\n",
            "0         0                0                1        2         1   \n",
            "1         0                0                1        3         0   \n",
            "2         1                0                0        2         1   \n",
            "3         1                0                1        3         1   \n",
            "4         1                0                1        2         0   \n",
            "\n",
            "   furnishingstatus_semi-furnished  furnishingstatus_unfurnished  \n",
            "0                                0                             0  \n",
            "1                                0                             0  \n",
            "2                                1                             0  \n",
            "3                                0                             0  \n",
            "4                                0                             0  \n",
            "\n",
            "==================================================\n",
            "\n",
            "Final DataFrame Info:\n",
            "<class 'pandas.core.frame.DataFrame'>\n",
            "RangeIndex: 545 entries, 0 to 544\n",
            "Data columns (total 14 columns):\n",
            " #   Column                           Non-Null Count  Dtype\n",
            "---  ------                           --------------  -----\n",
            " 0   price                            545 non-null    int64\n",
            " 1   area                             545 non-null    int64\n",
            " 2   bedrooms                         545 non-null    int64\n",
            " 3   bathrooms                        545 non-null    int64\n",
            " 4   stories                          545 non-null    int64\n",
            " 5   mainroad                         545 non-null    int64\n",
            " 6   guestroom                        545 non-null    int64\n",
            " 7   basement                         545 non-null    int64\n",
            " 8   hotwaterheating                  545 non-null    int64\n",
            " 9   airconditioning                  545 non-null    int64\n",
            " 10  parking                          545 non-null    int64\n",
            " 11  prefarea                         545 non-null    int64\n",
            " 12  furnishingstatus_semi-furnished  545 non-null    int64\n",
            " 13  furnishingstatus_unfurnished     545 non-null    int64\n",
            "dtypes: int64(14)\n",
            "memory usage: 59.7 KB\n"
          ]
        }
      ]
    },
    {
      "cell_type": "code",
      "source": [
        "# Define the features (X) and the target variable (y)\n",
        "# We will use all numerical columns as features, except for 'price' itself.\n",
        "# The one-hot encoded columns for 'furnishingstatus' will also be included.\n",
        "X = df_processed[['area', 'bedrooms', 'bathrooms', 'stories', 'mainroad',\n",
        "                  'guestroom', 'basement', 'hotwaterheating', 'airconditioning',\n",
        "                  'parking', 'prefarea', 'furnishingstatus_semi-furnished',\n",
        "                  'furnishingstatus_unfurnished']]\n",
        "\n",
        "# The target variable is the 'price' column\n",
        "y = df_processed['price']\n",
        "\n",
        "# training and testing sets\n",
        "# We'll use 80% for training and 20% for testing\n",
        "X_train, X_test, y_train, y_test = train_test_split(X, y, test_size=0.2, random_state=42)\n",
        "\n",
        "print(f\"X_train shape: {X_train.shape}\")\n",
        "print(f\"X_test shape: {X_test.shape}\")\n",
        "print(f\"y_train shape: {y_train.shape}\")\n",
        "print(f\"y_test shape: {y_test.shape}\")"
      ],
      "metadata": {
        "colab": {
          "base_uri": "https://localhost:8080/"
        },
        "id": "RW-fv6m2mdhU",
        "outputId": "4f8cf4c7-93a8-4708-fcbe-cfb4f5541168"
      },
      "execution_count": 29,
      "outputs": [
        {
          "output_type": "stream",
          "name": "stdout",
          "text": [
            "X_train shape: (436, 13)\n",
            "X_test shape: (109, 13)\n",
            "y_train shape: (436,)\n",
            "y_test shape: (109,)\n"
          ]
        }
      ]
    },
    {
      "cell_type": "code",
      "source": [
        "model = LinearRegression()\n",
        "\n",
        "# train the model using the training data\n",
        "model.fit(X_train, y_train)\n",
        "\n",
        "print(\"Multiple Linear Regression model has been trained successfully!\")"
      ],
      "metadata": {
        "colab": {
          "base_uri": "https://localhost:8080/"
        },
        "id": "8yLqt8kGoyXt",
        "outputId": "32ed0c9f-2b39-431c-f087-bd8836a9c372"
      },
      "execution_count": 30,
      "outputs": [
        {
          "output_type": "stream",
          "name": "stdout",
          "text": [
            "Multiple Linear Regression model has been trained successfully!\n"
          ]
        }
      ]
    },
    {
      "cell_type": "code",
      "source": [
        "# predictions on the test set\n",
        "y_pred = model.predict(X_test)\n",
        "\n",
        "# evaluation metrics\n",
        "# MAE is Mean Absolute Error, the average absolute difference between predicted and actual values.\n",
        "# MSE is Mean Squared Error, the average of the squared differences. It penalizes larger errors more.\n",
        "# R² (R-squared) measures the proportion of the variance in the target variable that is predictable from the features.\n",
        "mae = mean_absolute_error(y_test, y_pred)\n",
        "mse = mean_squared_error(y_test, y_pred)\n",
        "r2 = r2_score(y_test, y_pred)\n",
        "\n",
        "print(f\"Mean Absolute Error (MAE): {mae:.2f}\")\n",
        "print(f\"Mean Squared Error (MSE): {mse:.2f}\")\n",
        "print(f\"R-squared (R²): {r2:.2f}\")"
      ],
      "metadata": {
        "colab": {
          "base_uri": "https://localhost:8080/"
        },
        "id": "ebNKoUlco3iX",
        "outputId": "34115e43-bcaa-4cf2-e3e8-11002ded0f24"
      },
      "execution_count": 31,
      "outputs": [
        {
          "output_type": "stream",
          "name": "stdout",
          "text": [
            "Mean Absolute Error (MAE): 970043.40\n",
            "Mean Squared Error (MSE): 1754318687330.66\n",
            "R-squared (R²): 0.65\n"
          ]
        }
      ]
    },
    {
      "cell_type": "code",
      "source": [
        "# model's coefficients\n",
        "print(\"Model Coefficients:\")\n",
        "for feature, coef in zip(X.columns, model.coef_):\n",
        "    print(f\"{feature}: {coef:.2f}\")\n",
        "\n",
        "print(f\"\\nModel Intercept: {model.intercept_:.2f}\")"
      ],
      "metadata": {
        "colab": {
          "base_uri": "https://localhost:8080/"
        },
        "id": "UMS-rhB0o_Kt",
        "outputId": "0c2c661a-0f8f-4203-83b7-a8e937b520ca"
      },
      "execution_count": 32,
      "outputs": [
        {
          "output_type": "stream",
          "name": "stdout",
          "text": [
            "Model Coefficients:\n",
            "area: 235.97\n",
            "bedrooms: 76778.70\n",
            "bathrooms: 1094444.79\n",
            "stories: 407476.59\n",
            "mainroad: 367919.95\n",
            "guestroom: 231610.04\n",
            "basement: 390251.18\n",
            "hotwaterheating: 684649.89\n",
            "airconditioning: 791426.74\n",
            "parking: 224841.91\n",
            "prefarea: 629890.57\n",
            "furnishingstatus_semi-furnished: -126881.82\n",
            "furnishingstatus_unfurnished: -413645.06\n",
            "\n",
            "Model Intercept: 260032.36\n"
          ]
        }
      ]
    },
    {
      "cell_type": "code",
      "source": [
        "# scatter plot of Actual Prices vs. Predicted Prices\n",
        "plt.figure(figsize=(10, 6))\n",
        "plt.scatter(y_test, y_pred, color='blue')\n",
        "plt.plot([y_test.min(), y_test.max()], [y_test.min(), y_test.max()], 'r--', label='Ideal Fit')\n",
        "plt.title('Actual vs. Predicted House Prices')\n",
        "plt.xlabel('Actual Prices')\n",
        "plt.ylabel('Predicted Prices')\n",
        "plt.legend()\n",
        "plt.grid(True)\n",
        "plt.show()"
      ],
      "metadata": {
        "colab": {
          "base_uri": "https://localhost:8080/",
          "height": 564
        },
        "id": "CAEC3e32qroX",
        "outputId": "42bc47f2-0e9d-48a6-a2b0-c70c653309d3"
      },
      "execution_count": 33,
      "outputs": [
        {
          "output_type": "display_data",
          "data": {
            "text/plain": [
              "<Figure size 1000x600 with 1 Axes>"
            ],
            "image/png": "[encoded data removed]"
          },
          "metadata": {}
        }
      ]
    }
  ]
}